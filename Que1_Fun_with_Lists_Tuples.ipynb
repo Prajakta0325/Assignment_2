{
 "cells": [
  {
   "cell_type": "code",
   "execution_count": null,
   "id": "19f94030",
   "metadata": {},
   "outputs": [],
   "source": [
    "#Write a Python program to get a list, sorted in increasing order by the last element in each tuple from a given list \n",
    "#of non-empty tuples."
   ]
  },
  {
   "cell_type": "code",
   "execution_count": 6,
   "id": "30535509",
   "metadata": {},
   "outputs": [
    {
     "name": "stdout",
     "output_type": "stream",
     "text": [
      "[(2, 1), (1, 2), (2, 3), (4, 4), (2, 5)]\n"
     ]
    }
   ],
   "source": [
    "x= [(2, 5), (1, 2), (4, 4), (2, 3), (2, 1)]\n",
    "for i in range (len(x)):\n",
    "    for j in range(len(x)):\n",
    "        if x[i][1]<x[j][1]:\n",
    "            x[i],x[j]=x[j],x[i]\n",
    "print(x)"
   ]
  },
  {
   "cell_type": "code",
   "execution_count": null,
   "id": "a9f82ca6",
   "metadata": {},
   "outputs": [],
   "source": []
  },
  {
   "cell_type": "code",
   "execution_count": null,
   "id": "116e7ef9",
   "metadata": {},
   "outputs": [],
   "source": []
  }
 ],
 "metadata": {
  "kernelspec": {
   "display_name": "Python 3 (ipykernel)",
   "language": "python",
   "name": "python3"
  },
  "language_info": {
   "codemirror_mode": {
    "name": "ipython",
    "version": 3
   },
   "file_extension": ".py",
   "mimetype": "text/x-python",
   "name": "python",
   "nbconvert_exporter": "python",
   "pygments_lexer": "ipython3",
   "version": "3.9.13"
  }
 },
 "nbformat": 4,
 "nbformat_minor": 5
}
